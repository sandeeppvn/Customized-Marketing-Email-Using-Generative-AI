{
  "nbformat": 4,
  "nbformat_minor": 0,
  "metadata": {
    "colab": {
      "provenance": []
    },
    "kernelspec": {
      "name": "python3",
      "display_name": "Python 3"
    },
    "language_info": {
      "name": "python"
    }
  },
  "cells": [
    {
      "cell_type": "code",
      "execution_count": 1,
      "metadata": {
        "colab": {
          "base_uri": "https://localhost:8080/"
        },
        "id": "IjN734ykKyic",
        "outputId": "8ea49120-96c1-4540-eaac-e7db74e9e9c7"
      },
      "outputs": [
        {
          "output_type": "stream",
          "name": "stdout",
          "text": [
            "Looking in indexes: https://pypi.org/simple, https://us-python.pkg.dev/colab-wheels/public/simple/\n",
            "Requirement already satisfied: tweepy in /usr/local/lib/python3.10/dist-packages (4.13.0)\n",
            "Requirement already satisfied: oauthlib<4,>=3.2.0 in /usr/local/lib/python3.10/dist-packages (from tweepy) (3.2.2)\n",
            "Requirement already satisfied: requests<3,>=2.27.0 in /usr/local/lib/python3.10/dist-packages (from tweepy) (2.27.1)\n",
            "Requirement already satisfied: requests-oauthlib<2,>=1.2.0 in /usr/local/lib/python3.10/dist-packages (from tweepy) (1.3.1)\n",
            "Requirement already satisfied: urllib3<1.27,>=1.21.1 in /usr/local/lib/python3.10/dist-packages (from requests<3,>=2.27.0->tweepy) (1.26.15)\n",
            "Requirement already satisfied: certifi>=2017.4.17 in /usr/local/lib/python3.10/dist-packages (from requests<3,>=2.27.0->tweepy) (2022.12.7)\n",
            "Requirement already satisfied: charset-normalizer~=2.0.0 in /usr/local/lib/python3.10/dist-packages (from requests<3,>=2.27.0->tweepy) (2.0.12)\n",
            "Requirement already satisfied: idna<4,>=2.5 in /usr/local/lib/python3.10/dist-packages (from requests<3,>=2.27.0->tweepy) (3.4)\n",
            "Looking in indexes: https://pypi.org/simple, https://us-python.pkg.dev/colab-wheels/public/simple/\n",
            "Requirement already satisfied: nltk in /usr/local/lib/python3.10/dist-packages (3.8.1)\n",
            "Requirement already satisfied: click in /usr/local/lib/python3.10/dist-packages (from nltk) (8.1.3)\n",
            "Requirement already satisfied: joblib in /usr/local/lib/python3.10/dist-packages (from nltk) (1.2.0)\n",
            "Requirement already satisfied: regex>=2021.8.3 in /usr/local/lib/python3.10/dist-packages (from nltk) (2022.10.31)\n",
            "Requirement already satisfied: tqdm in /usr/local/lib/python3.10/dist-packages (from nltk) (4.65.0)\n"
          ]
        },
        {
          "output_type": "stream",
          "name": "stderr",
          "text": [
            "[nltk_data] Downloading package vader_lexicon to /root/nltk_data...\n"
          ]
        },
        {
          "output_type": "execute_result",
          "data": {
            "text/plain": [
              "True"
            ]
          },
          "metadata": {},
          "execution_count": 1
        }
      ],
      "source": [
        "#installing relevant libraries\n",
        "!pip install tweepy\n",
        "!pip install nltk\n",
        "\n",
        "import nltk\n",
        "nltk.download('vader_lexicon')\n",
        "\n"
      ]
    },
    {
      "cell_type": "code",
      "source": [
        "# importing libraries\n",
        "import tweepy\n",
        "from textblob import TextBlob\n",
        "from nltk.sentiment.vader import SentimentIntensityAnalyzer"
      ],
      "metadata": {
        "id": "7ePiFrnBKrdF"
      },
      "execution_count": 2,
      "outputs": []
    },
    {
      "cell_type": "code",
      "source": [
        "# setting up twitter api authentication\n",
        " \n",
        "# API keyws that yous saved earlier\n",
        "api_key = \"insert yours\"\n",
        "api_secrets = \"insert yours\"\n",
        "access_token = \"insert yours\"\n",
        "access_secret = \"insert yours\"\n",
        " \n",
        "# Authenticate to Twitter\n",
        "auth = tweepy.OAuthHandler(api_key,api_secrets)\n",
        "auth.set_access_token(access_token,access_secret)\n",
        " \n",
        "api = tweepy.API(auth)\n",
        " \n",
        "try:\n",
        "    api.verify_credentials()\n",
        "    print('Successful Authentication')\n",
        "except:\n",
        "    print('Failed authentication')"
      ],
      "metadata": {
        "colab": {
          "base_uri": "https://localhost:8080/"
        },
        "id": "uSHu9ItdK-Rc",
        "outputId": "ab1fbdec-024c-4503-8433-dc424b8e3ddf"
      },
      "execution_count": 3,
      "outputs": [
        {
          "output_type": "stream",
          "name": "stdout",
          "text": [
            "Successful Authentication\n"
          ]
        }
      ]
    },
    {
      "cell_type": "code",
      "source": [
        "def percentage(part,whole):\n",
        " return 100 * float(part)/float(whole)\n",
        "keyword = input('Please enter keyword or hashtag to search: ')\n",
        "noOfTweet = int(input ('Please enter how many tweets to analyze: '))\n",
        "tweets = tweepy.Cursor(api.search_tweets, q=keyword).items(noOfTweet)\n",
        "positive = 0\n",
        "negative = 0\n",
        "neutral = 0\n",
        "polarity = 0\n",
        "tweet_list = []\n",
        "neutral_list = []\n",
        "negative_list = []\n",
        "positive_list = []\n",
        "positive_user = []\n",
        "for tweet in tweets: \n",
        "  #print(tweet.text)\n",
        "  tweet_list.append(tweet.text)\n",
        "  analysis = TextBlob(tweet.text)\n",
        "  score = SentimentIntensityAnalyzer().polarity_scores(tweet.text)\n",
        "  neg = score['neg']\n",
        "  neu = score['neu']\n",
        "  pos = score['pos']\n",
        "  comp = score['compound']\n",
        "  polarity += analysis.sentiment.polarity\n",
        " \n",
        "  if neg > pos:\n",
        "    negative_list.append(tweet.text)\n",
        "    negative += 1\n",
        "  elif pos > neg:\n",
        "    positive_list.append(tweet.text)\n",
        "    positive_user.append(tweet.user.id)\n",
        "    positive += 1\n",
        "  \n",
        "  elif pos == neg:\n",
        "    neutral_list.append(tweet.text)\n",
        "    neutral += 1\n",
        "positive = percentage(positive, noOfTweet)\n",
        "negative = percentage(negative, noOfTweet)\n",
        "neutral = percentage(neutral, noOfTweet)\n",
        "polarity = percentage(polarity, noOfTweet)\n",
        "positive = format(positive, '.1f')\n",
        "negative = format(negative, '.1f')\n",
        "neutral = format(neutral, '.1f')"
      ],
      "metadata": {
        "id": "JrT1kKcgK-vM",
        "colab": {
          "base_uri": "https://localhost:8080/"
        },
        "outputId": "dad95466-5272-4765-ad50-72d8c307cdcf"
      },
      "execution_count": 4,
      "outputs": [
        {
          "name": "stdout",
          "output_type": "stream",
          "text": [
            "Please enter keyword or hashtag to search: tesla\n",
            "Please enter how many tweets to analyze: 100\n"
          ]
        }
      ]
    },
    {
      "cell_type": "code",
      "source": [
        "count=0\n",
        "dicts = {}\n",
        "for user in positive_user:\n",
        "  count=count+1\n",
        "  user_tweet = []\n",
        "  timeline=tweepy.Cursor(api.user_timeline, id=user).items(5)\n",
        "  for r in timeline:\n",
        "    user_tweet.append(r.text)\n",
        "    #print(r.text)\n",
        "  dicts[user] = user_tweet\n",
        "  print(\"user {}\".format(count))"
      ],
      "metadata": {
        "colab": {
          "base_uri": "https://localhost:8080/"
        },
        "id": "5r7KTLnR3iNK",
        "outputId": "1b362a9f-c134-4bff-8c70-b94d78895abe"
      },
      "execution_count": 5,
      "outputs": [
        {
          "output_type": "stream",
          "name": "stderr",
          "text": [
            "WARNING:tweepy.api:Unexpected parameter: id\n",
            "WARNING:tweepy.api:Unexpected parameter: id\n"
          ]
        },
        {
          "output_type": "stream",
          "name": "stdout",
          "text": [
            "user 1\n"
          ]
        },
        {
          "output_type": "stream",
          "name": "stderr",
          "text": [
            "WARNING:tweepy.api:Unexpected parameter: id\n"
          ]
        },
        {
          "output_type": "stream",
          "name": "stdout",
          "text": [
            "user 2\n"
          ]
        },
        {
          "output_type": "stream",
          "name": "stderr",
          "text": [
            "WARNING:tweepy.api:Unexpected parameter: id\n"
          ]
        },
        {
          "output_type": "stream",
          "name": "stdout",
          "text": [
            "user 3\n"
          ]
        },
        {
          "output_type": "stream",
          "name": "stderr",
          "text": [
            "WARNING:tweepy.api:Unexpected parameter: id\n"
          ]
        },
        {
          "output_type": "stream",
          "name": "stdout",
          "text": [
            "user 4\n"
          ]
        },
        {
          "output_type": "stream",
          "name": "stderr",
          "text": [
            "WARNING:tweepy.api:Unexpected parameter: id\n"
          ]
        },
        {
          "output_type": "stream",
          "name": "stdout",
          "text": [
            "user 5\n"
          ]
        },
        {
          "output_type": "stream",
          "name": "stderr",
          "text": [
            "WARNING:tweepy.api:Unexpected parameter: id\n"
          ]
        },
        {
          "output_type": "stream",
          "name": "stdout",
          "text": [
            "user 6\n"
          ]
        },
        {
          "output_type": "stream",
          "name": "stderr",
          "text": [
            "WARNING:tweepy.api:Unexpected parameter: id\n"
          ]
        },
        {
          "output_type": "stream",
          "name": "stdout",
          "text": [
            "user 7\n"
          ]
        },
        {
          "output_type": "stream",
          "name": "stderr",
          "text": [
            "WARNING:tweepy.api:Unexpected parameter: id\n"
          ]
        },
        {
          "output_type": "stream",
          "name": "stdout",
          "text": [
            "user 8\n"
          ]
        },
        {
          "output_type": "stream",
          "name": "stderr",
          "text": [
            "WARNING:tweepy.api:Unexpected parameter: id\n"
          ]
        },
        {
          "output_type": "stream",
          "name": "stdout",
          "text": [
            "user 9\n"
          ]
        },
        {
          "output_type": "stream",
          "name": "stderr",
          "text": [
            "WARNING:tweepy.api:Unexpected parameter: id\n"
          ]
        },
        {
          "output_type": "stream",
          "name": "stdout",
          "text": [
            "user 10\n"
          ]
        },
        {
          "output_type": "stream",
          "name": "stderr",
          "text": [
            "WARNING:tweepy.api:Unexpected parameter: id\n",
            "WARNING:tweepy.api:Unexpected parameter: id\n"
          ]
        },
        {
          "output_type": "stream",
          "name": "stdout",
          "text": [
            "user 11\n",
            "user 12\n"
          ]
        },
        {
          "output_type": "stream",
          "name": "stderr",
          "text": [
            "WARNING:tweepy.api:Unexpected parameter: id\n"
          ]
        },
        {
          "output_type": "stream",
          "name": "stdout",
          "text": [
            "user 13\n"
          ]
        },
        {
          "output_type": "stream",
          "name": "stderr",
          "text": [
            "WARNING:tweepy.api:Unexpected parameter: id\n",
            "WARNING:tweepy.api:Unexpected parameter: id\n"
          ]
        },
        {
          "output_type": "stream",
          "name": "stdout",
          "text": [
            "user 14\n",
            "user 15\n"
          ]
        },
        {
          "output_type": "stream",
          "name": "stderr",
          "text": [
            "WARNING:tweepy.api:Unexpected parameter: id\n"
          ]
        },
        {
          "output_type": "stream",
          "name": "stdout",
          "text": [
            "user 16\n"
          ]
        },
        {
          "output_type": "stream",
          "name": "stderr",
          "text": [
            "WARNING:tweepy.api:Unexpected parameter: id\n"
          ]
        },
        {
          "output_type": "stream",
          "name": "stdout",
          "text": [
            "user 17\n"
          ]
        },
        {
          "output_type": "stream",
          "name": "stderr",
          "text": [
            "WARNING:tweepy.api:Unexpected parameter: id\n"
          ]
        },
        {
          "output_type": "stream",
          "name": "stdout",
          "text": [
            "user 18\n"
          ]
        },
        {
          "output_type": "stream",
          "name": "stderr",
          "text": [
            "WARNING:tweepy.api:Unexpected parameter: id\n"
          ]
        },
        {
          "output_type": "stream",
          "name": "stdout",
          "text": [
            "user 19\n",
            "user 20\n"
          ]
        }
      ]
    },
    {
      "cell_type": "code",
      "source": [
        "# dictionary of users and tweets made by users \n",
        "dicts"
      ],
      "metadata": {
        "colab": {
          "base_uri": "https://localhost:8080/"
        },
        "id": "MS74yvxZJCbz",
        "outputId": "8af0f569-9bd3-44db-c0d1-896a60ff4cce"
      },
      "execution_count": 6,
      "outputs": [
        {
          "output_type": "execute_result",
          "data": {
            "text/plain": [
              "{4729850714: [\"@AshMgdc @atRachelGilmore Lol. Hope you're joking...\",\n",
              "  '@atRachelGilmore If you know anyone with a Tesla, get in there and turn on the Bioweapon Defense Mode.',\n",
              "  'RT @Songstress28: Trudeau is riled up about the wildfires &amp; socks it to conservative opposition leader Pierre Poilievre #ClimateCatastrophe…',\n",
              "  '@WSOnlineNews Lol, everyone knows that any medication has side effects for a tiny percentage of the population.',\n",
              "  '@JoshWylie14 @s_guilbeault What exactly is your claim here?'],\n",
              " 1433938688: ['RT @Synchronicity34: Supposedly EV batteries only last 2 years, like mobile phones, or just the 8 year warranty period or just 10 years max…',\n",
              "  \"RT @James_BG: It may seem counterintuitive, but in fact fairly obvious that solar farms that are not doused in pesticides, aren't ploughed…\",\n",
              "  '@LiamCalvert @MrGChampion There is absolutely no \"one size fits all\" solution to this. Pavements and roads come in… https://t.co/8A5klNyu7X',\n",
              "  'RT @CleanPowerDave: This graph should make me happy.\\n\\nBut it makes me angry. Angry that the solution was there all along and vested interes…',\n",
              "  '@ChrisG_SpX errrrrm...... 🤔😂 https://t.co/U37GianiBH'],\n",
              " 1456993673917435908: ['@elonmusk Please keep Tesla going up up and we will be sooo happy.',\n",
              "  \"@elonmusk Do you like salmon? It's good for you.\",\n",
              "  \"@fuckyouiquit I'm so glad you quit.  I .never see your text messages https://t.co/lbJnEOnxNR\",\n",
              "  '@fuckyouiquit STOP',\n",
              "  '@atensnut U r the morron'],\n",
              " 1644202521773359109: [\"@metatimecom I've never seen a long time Aridrop Campaign like this before, really excited.\",\n",
              "  'RT @metatimecom: #Tesla started accepting payments in Bitcoin in 2021, and one #Bitcoin user paid 91.4 Bitcoin to buy a Tesla Model S Plaid…',\n",
              "  'MetaLaunchpad is designed for those with great ideas for the blockchain world but no coding experience. Creating a… https://t.co/eFhIOsVb3a',\n",
              "  'Metatime will make another first by not charging commission fees for losing trades while keeping the benefit of its… https://t.co/cllnzXjlcs',\n",
              "  'The Metatime ecosystem is built on the MetaChain network, which offers fast and secure transactions at low cost thr… https://t.co/X48abbAqvr'],\n",
              " 1615363672024432643: ['RT @moriahgirley: WHEN YOU CAN’T SLEEP BECAUSE $PEPE IS LIFE AND YOU’RE ON YOUR FIFTH TWITTER SPACE OF THE DAY… https://t.co/dpHSwV6nuC',\n",
              "  'RT @ACTforAmerica: EXIT THE WHO ➡️ https://t.co/fJPl06Ew9r https://t.co/JtZz2Ff4Um',\n",
              "  'RT @AI45375964: Wow.  You done. elon. Tesla and Twitter are the best combination. 🌷🌺💐 One provides AI technology, the other provides big da…',\n",
              "  'RT @SeffSaid: Sometimes https://t.co/vtl711Halj',\n",
              "  'RT @FemalesForTrump: Retweet ur support for Mel Gibson Exposing 34 Billion Dollar CHILD SEX Trafficking Business … Exposing billionaires, H…'],\n",
              " 2211271284: [\"RT @SawyerMerritt: Morgan Stanley's Adam Jonas shares his experience buying a brand new car from a traditional dealership this past week &amp;…\",\n",
              "  'RT @TeslaBoomerMama: Daily update on $TSLA in actively managed ETFs (6/6)\\n\\nStill waiting for a comment of @gerberkawasaki why he sold 10,00…',\n",
              "  \"RT @MattWalshBlog: What Is A Woman got 175 million views. Tucker's first episode has 20 million views in just four hours. We're watching as…\",\n",
              "  'RT @garyblack00: We’ve been talking about $COIN as a short for two years (since $300).  In a well telegraphed move, SEC is now suing $COIN…',\n",
              "  'RT @edleonklinger: Did apple just lowkey launch a v1 brain-machine-interface into the Vision Pro? \\n\\nOne of their ex designers just tweeted…'],\n",
              " 2327829774: ['RT @jpr007: Tesla to power new massive $500 million energy storage project | Electrek https://t.co/cvyDsgy5e8',\n",
              "  'RT @Whateverbytes: So finally got my Tesla 21kw roof and Powerwall x3 turned up an running two days ago.  \\nToday it has been pretty sunny a…',\n",
              "  'RT @ray4tesla: Tesla suppliers in 🇨🇳 are reportedly urged by Tesla to build factories in Mexico ASAP. According to an anonymous insider, su…',\n",
              "  'RT @nancycartwright: Channeling my inner George Jetson with my new Tesla! 🚀🚗\\n\\n#tesla #teslamodels #newcar @Tesla https://t.co/8OpmNnHeaL',\n",
              "  \"RT @SERobinsonJr: Did you Know there are around 120 @Tesla suppliers in Mexico? Guess where many of them are located... That's right, Nuevo…\"],\n",
              " 1901733150: ['RT @MarketRebels: Truflation’s real-time US inflation gauge has moved below 3%, down from a peak of 12% last June https://t.co/3L4nFADsBG',\n",
              "  'RT @TopTradingEdge: $TSLA talk :  social buzz planing to open factories in every country. https://t.co/uwhTBDqX0u',\n",
              "  'RT @TESLA_is_TREX: And we just turned GREEN $tsla #Tesla https://t.co/2cY47OOnyR',\n",
              "  'RT @Teslaconomics: Clean, fresh air is priceless. The good news is that all new Tesla Model S, X, &amp; Y have hospital-grade (HEPA) air filter…',\n",
              "  'RT @Teslaconomics: Buy a Tesla bc Earth will thank you in the future. $TSLA https://t.co/WEPvyi9a2C'],\n",
              " 1068563533003137025: ['RT @Karthik48966191: @jpr007 Meanwhile...\\n\\n@Tesla getting fucked by BYD is just so delicious!! Not just cars, but also ESS.\\n\\nhttps://t.co/o…',\n",
              "  'RT @JamesVictorino2: BREAKING: $TSLA in talks to open factory in Antarctica. 🐧',\n",
              "  'RT @BradMunchen: $TSLA should at least be stopped from recognizing any deferred FSD revenues from here on.',\n",
              "  \"RT @BradMunchen: What if some analysts who have price targets 15% lower than $TSLA's current share price downgrade their ratings to Neutral…\",\n",
              "  \"RT @ShortingIsFun: This is actually where I hide to spy on the $TSLA Fremont factory in my trash ghille suit. We've learned so much from my…\"],\n",
              " 1644044497662144527: ['RT @metatimecom: #Tesla started accepting payments in Bitcoin in 2021, and one #Bitcoin user paid 91.4 Bitcoin to buy a Tesla Model S Plaid…',\n",
              "  '@metatimecom Waiting for that moment...',\n",
              "  '-Based on #ethereum  @xworld_pro has Launched Testnet | #XWORLD \\n\\n-Join XWorld Zealy（\\u200bhttps://t.co/Qs2dB1lIqT)\\n\\n-Ea… https://t.co/0VaBdXdJx0',\n",
              "  '@HeptonL3 Nice',\n",
              "  'Come and trade your Hepton $HTE on #Uniswap ! The journey to the moon now begins!\\n\\nhttps://t.co/IQhUFJ0Atx'],\n",
              " 19142937: ['@MeowMeowCapital @MarloFranson @Rebel1Ready63 @CollinRugg @Tesla Thank you.',\n",
              "  'When strangers bring kindness into your home, it reaffirms one’s faith in humanity. Bravo, Robert! Bravo, Spectrum!… https://t.co/6R7tljsMQG',\n",
              "  \"RT @OccupyDemocrats: A victory against DeSantis's horrific agenda!\\nhttps://t.co/6bYaYI41KS\",\n",
              "  'RT @MuscarelliEllie: @TheRichFromCali I see a man who has great faith, great intellect, and a great love of his family and country!',\n",
              "  'RT @elemgee: @OccupyDemocrats Matthew 6\\n“When you pray, do not be like the hypocrites, for they love to pray standing in the synagogues and…'],\n",
              " 1325518305361158144: ['@SavingsCaptain Lol yeah mostly DCAing. Saw red (except for Tesla) and SCHD green, so decided to go for it. I only… https://t.co/cYIc10DxMa',\n",
              "  '@DripinDivis I have 25 shares of SCHD left, going to gradually dump it all.',\n",
              "  '$WBD finished up 8.43% today 💪🏻\\n\\n#streamers',\n",
              "  '@Mike_Sharpe_ @StkPknBartender You better have noticed. I put a lot of effort into that tweet 🤨',\n",
              "  '@money_cruncher https://t.co/450EuGb3sQ'],\n",
              " 177662431: ['Carvana forecasts second-quarter core profit above $50 million https://t.co/HGG7lEJLPz https://t.co/qyAOoRjcW3',\n",
              "  'Tesla in advanced talks to build factory in Valencia – reports https://t.co/GqWaLjZJRi https://t.co/Am8ojjnJVG',\n",
              "  'GameStop, Meta Platforms fall premarket; Designer Brands, Lucid rise https://t.co/OGWJb2uBUR https://t.co/ew0A9qIXBI',\n",
              "  \"Robinhood 'insulated from SEC crypto debacle,' future prospects are upbeat - Mizuho Securities… https://t.co/13rGFUvs5J\",\n",
              "  'Tesla considering building 4.5 billion euro car factory in Spain - report https://t.co/L9dxI80CzG https://t.co/zIDar7goR4'],\n",
              " 1012348082: ['@Ashcryptoreal @HorizonProtocol 💎💎💎💎💎 #HZN #RWA \\nHorizon Protocol facilitates the creation and trading of synthetic… https://t.co/OkYpRDL7D5',\n",
              "  '@WaqarSaaS Ok',\n",
              "  '@CryptoGeekNews @HorizonProtocol 💎💎💎💎💎 #HZN #RWA \\nHorizon Protocol facilitates the creation and trading of syntheti… https://t.co/cZte6MDs7t',\n",
              "  '@cryptojack @HorizonProtocol 💎💎💎💎💎 #HZN #RWA \\nHorizon Protocol facilitates the creation and trading of synthetic as… https://t.co/N6nGdwCfns',\n",
              "  '@PearDAOReal If we need a oracle for the synthetic assets , if for example HZN want to have like a SP500 assets a o… https://t.co/A3chKVKcLO'],\n",
              " 1483092379729113089: ['@DirtyTesLa @Tesla BioDefense engaged in Manhattan https://t.co/wKG5HUrtt1',\n",
              "  '@andyweedman @chazman @Twitter @elonmusk @aelluswamy Same! https://t.co/8xTBdQqEQx',\n",
              "  'Ok, so I had a successful highway merge on FSD b11.4.2. Turn signals and all. Not my first, but my first caught on… https://t.co/6o2b9xX52B',\n",
              "  '@chazman @elonmusk @aelluswamy I /just/ experienced it using the blinker and merging onto highway lanes before the… https://t.co/uz9SM2huwL',\n",
              "  'You know what would be cool for FSDbeta drives? A “caravan” mode. When I’m leading a group of cars, try not to be a… https://t.co/TWzJRwCG7k'],\n",
              " 1569600094881861632: ['RT @Veritassanctum: the Real Presence of Jesus in the consecrated host.\\n\\n—Cardinal Robert Sarah (Prefect Emeritus of the Congregation for D…',\n",
              "  'RT @Veritassanctum: sowing errors and favouring an unsuitable manner of receiving it. Truly the war between Michael and his Angels on one s…',\n",
              "  \"RT @Veritassanctum: COMMUNION IN THE HAND PART OF 'DIABOLICAL ATTACK' ON EUCHARIST \\n\\nWhy do we insist on communicating standing in the hand…\",\n",
              "  'RT @CollinRugg: BREAKING: Fox News lawyers have reached out to Tucker Carlson notifying him that he breached his contract by launching his…',\n",
              "  'RT @robertasphone: @JamesOKeefeIII Tucker needs to run for President.'],\n",
              " 1367960770470903809: ['RT @Yusuf_Metatime: And what if you compare #MetatimeCoin (#MTC) with #BNB &amp; #ETH?\\n\\n🤐🙊🤫 #TheNewStandard 👇 https://t.co/ij1pqXU2dH',\n",
              "  '@metatimecom Nice',\n",
              "  'RT @metatimecom: #Tesla started accepting payments in Bitcoin in 2021, and one #Bitcoin user paid 91.4 Bitcoin to buy a Tesla Model S Plaid…',\n",
              "  'Nice\\n#Metatime  @metatimecom \\n #MetaAirdrop   #Airdrop https://t.co/c55GqgbhKF',\n",
              "  '@metatimecom Yup a good project in continuous progress and easy to use and affordable'],\n",
              " 1100861237410156550: ['RT @TaylorOgan: I screenshotted this in September 2021 because I knew how funny it’d be to look back on when Cybertruck would keep getting…',\n",
              "  '@RicochetRowdy @JesseLi48096164 @RippleyRippley Yea because Tesla did so well with their first non-auto business so… https://t.co/Qjc13fxWRr',\n",
              "  \"RT @karaswisher: Oh. Um. Nevermind: Twitter's own lawyers refute Elon Musk's claim that the 'Twitter Files' exposed US government censorshi…\",\n",
              "  'RT @NBCSBears: \"I\\'m gonna be there for my daughter because they can find another corner. My daughter can\\'t find another dad.\"\\n\\n-Jaylon John…',\n",
              "  'RT @PBRStreetGang7: And now a 6% discount for USA inventory Performance Model 3.\\n\\nWow.\\n$TSLA https://t.co/aHGhx9E9Vq']}"
            ]
          },
          "metadata": {},
          "execution_count": 6
        }
      ]
    }
  ]
}